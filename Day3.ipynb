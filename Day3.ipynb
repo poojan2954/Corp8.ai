{
 "cells": [
  {
   "cell_type": "markdown",
   "id": "29d1b862-3ff2-4674-b602-8b64f8eeb066",
   "metadata": {},
   "source": [
    "### Text-Based Q&A and Embedding with LangChain + Hugging Face"
   ]
  },
  {
   "cell_type": "markdown",
   "id": "d4868850-048e-4ca4-a87f-3109ee4a2fef",
   "metadata": {},
   "source": [
    "#### Text-Based Q&A Using a Chat Model"
   ]
  },
  {
   "cell_type": "code",
   "execution_count": null,
   "id": "9c7b2378-26cd-42e1-a053-ce181cca4fdc",
   "metadata": {},
   "outputs": [],
   "source": [
    "from langchain_huggingface import ChatHuggingFace, HuggingFaceEndpoint \n",
    "from dotenv import load_dotenv \n",
    "load_dotenv() \n",
    "\n",
    "llm = HuggingFaceEndpoint( \n",
    "    repo_id=\"TinyLlama/TinyLlama-1.1B-Chat-v1.0\",  # small, open-source chat model\n",
    "    task=\"text-generation\" \n",
    ") \n",
    "\n",
    "model = ChatHuggingFace(llm=llm) \n",
    "result = model.invoke(\"What is the capital of India?\") \n",
    "print(result.content)\n"
   ]
  },
  {
   "cell_type": "markdown",
   "id": "2339513d-4c18-4aaa-a65e-4fe427c4607a",
   "metadata": {},
   "source": [
    "### Sentence Embedding for Semantic Search / Similarity"
   ]
  },
  {
   "cell_type": "code",
   "execution_count": null,
   "id": "633d1d70-2ef1-451f-83a3-b734c86f162f",
   "metadata": {},
   "outputs": [],
   "source": [
    "from langchain_huggingface import HuggingFaceEmbeddings  \n",
    "\n",
    "embedding = HuggingFaceEmbeddings(model_name='sentence-transformers/all-MiniLM-L6-v2') \n",
    "text = \"Delhi is the capital of India.\" \n",
    "vector = embedding.embed_query(text) \n",
    "print(str(vector))\n"
   ]
  }
 ],
 "metadata": {
  "kernelspec": {
   "display_name": "Python 3 (ipykernel)",
   "language": "python",
   "name": "python3"
  },
  "language_info": {
   "codemirror_mode": {
    "name": "ipython",
    "version": 3
   },
   "file_extension": ".py",
   "mimetype": "text/x-python",
   "name": "python",
   "nbconvert_exporter": "python",
   "pygments_lexer": "ipython3",
   "version": "3.12.7"
  }
 },
 "nbformat": 4,
 "nbformat_minor": 5
}
