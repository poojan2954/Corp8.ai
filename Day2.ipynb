{
 "cells": [
  {
   "cell_type": "code",
   "execution_count": 1,
   "id": "37cf91ac-6277-4a3a-96d3-27f075678780",
   "metadata": {},
   "outputs": [
    {
     "data": {
      "text/plain": [
       "True"
      ]
     },
     "execution_count": 1,
     "metadata": {},
     "output_type": "execute_result"
    }
   ],
   "source": [
    "from dotenv import load_dotenv\n",
    "load_dotenv()\n"
   ]
  },
  {
   "cell_type": "code",
   "execution_count": 36,
   "id": "1d484e04-c156-4008-a781-10b8cfece9ce",
   "metadata": {},
   "outputs": [],
   "source": [
    "from langchain.prompts import PromptTemplate"
   ]
  },
  {
   "cell_type": "markdown",
   "id": "91251081-5f7d-49e3-949b-555f1906dc8e",
   "metadata": {},
   "source": [
    "#### Intro to PromptTemplate"
   ]
  },
  {
   "cell_type": "code",
   "execution_count": 42,
   "id": "5dd1ea70-3404-4caf-9a38-621915b65a99",
   "metadata": {},
   "outputs": [
    {
     "name": "stdout",
     "output_type": "stream",
     "text": [
      "What is the capital of France?\n"
     ]
    }
   ],
   "source": [
    "template = PromptTemplate.from_template(\"What is the capital of {country}?\")\n",
    "prompt = template.format(country=\"France\")\n",
    "print(prompt)"
   ]
  },
  {
   "cell_type": "markdown",
   "id": "26fa74d6-7018-40c6-9407-1100b07b096c",
   "metadata": {},
   "source": [
    "#### Dynamic Variables in Prompts"
   ]
  },
  {
   "cell_type": "code",
   "execution_count": 40,
   "id": "51c48c1b-b038-4988-8a99-6f0810fcf3e0",
   "metadata": {},
   "outputs": [
    {
     "name": "stdout",
     "output_type": "stream",
     "text": [
      "Tell me a funny story about a cat.\n"
     ]
    }
   ],
   "source": [
    "template = PromptTemplate.from_template(\"Tell me a {tone} story about a {animal}.\")\n",
    "prompt = template.format(tone=\"funny\", animal=\"cat\")\n",
    "print(prompt)"
   ]
  },
  {
   "cell_type": "markdown",
   "id": "6f97d710-8f0f-4727-943a-40faf740cb79",
   "metadata": {},
   "source": [
    "#### Basic PromptTemplate"
   ]
  },
  {
   "cell_type": "code",
   "execution_count": 3,
   "id": "b8c99e97-9dd5-42a0-be49-b578ddd793ca",
   "metadata": {},
   "outputs": [
    {
     "name": "stdout",
     "output_type": "stream",
     "text": [
      "Write a short poem about a lonely whale.\n"
     ]
    }
   ],
   "source": [
    "from langchain.prompts import PromptTemplate\n",
    "prompt = PromptTemplate(\n",
    "    input_variables=[\"topic\"],\n",
    "    template=\"Write a short poem about {topic}.\"\n",
    ")\n",
    "print(prompt.format(topic=\"a lonely whale\"))"
   ]
  },
  {
   "cell_type": "markdown",
   "id": "15b0a5c8-6035-431a-b18f-1b3eea125110",
   "metadata": {},
   "source": [
    "#### Multi-variable PromptTemplate"
   ]
  },
  {
   "cell_type": "code",
   "execution_count": 5,
   "id": "d3815eea-bc55-4d4c-acca-4ce2c052f253",
   "metadata": {},
   "outputs": [
    {
     "name": "stdout",
     "output_type": "stream",
     "text": [
      "Translate the word 'apple' into French.\n"
     ]
    }
   ],
   "source": [
    "prompt = PromptTemplate(\n",
    "    input_variables=[\"language\", \"word\"],\n",
    "    template=\"Translate the word '{word}' into {language}.\"\n",
    ")\n",
    "print(prompt.format(language=\"French\", word=\"apple\"))"
   ]
  },
  {
   "cell_type": "markdown",
   "id": "983ed1b8-4235-47bd-836e-1fb0b812c395",
   "metadata": {},
   "source": [
    "#### Basic ChatPromptTemplate "
   ]
  },
  {
   "cell_type": "code",
   "execution_count": 54,
   "id": "16c7cc86-07f8-4019-b715-0240fdb04026",
   "metadata": {},
   "outputs": [
    {
     "name": "stdout",
     "output_type": "stream",
     "text": [
      "System:\n",
      "You are a helpful assistant.\n",
      "\n",
      "Human:\n",
      "Translate this sentence: How are you?\n",
      "\n"
     ]
    }
   ],
   "source": [
    "from langchain.prompts import PromptTemplate\n",
    "from langchain.prompts.chat import ChatPromptTemplate\n",
    "chat_prompt = ChatPromptTemplate.from_messages([\n",
    "    (\"system\", \"You are a helpful assistant.\"),\n",
    "    (\"human\", \"Translate this sentence: {sentence}\")\n",
    "])\n",
    "\n",
    "formatted_chat = chat_prompt.format_messages(sentence=\"How are you?\")\n",
    "for message in formatted_chat:\n",
    "    print(f\"{message.type.capitalize()}:\\n{message.content}\\n\")"
   ]
  },
  {
   "cell_type": "code",
   "execution_count": null,
   "id": "806f1846-7c1e-4865-a419-bb71351db46c",
   "metadata": {},
   "outputs": [],
   "source": []
  }
 ],
 "metadata": {
  "kernelspec": {
   "display_name": "Python 3 (ipykernel)",
   "language": "python",
   "name": "python3"
  },
  "language_info": {
   "codemirror_mode": {
    "name": "ipython",
    "version": 3
   },
   "file_extension": ".py",
   "mimetype": "text/x-python",
   "name": "python",
   "nbconvert_exporter": "python",
   "pygments_lexer": "ipython3",
   "version": "3.12.7"
  }
 },
 "nbformat": 4,
 "nbformat_minor": 5
}
