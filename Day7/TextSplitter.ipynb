{
 "cells": [
  {
   "cell_type": "markdown",
   "id": "3ab01fc7-96f6-4c81-b0c2-84a42d16360e",
   "metadata": {},
   "source": [
    "## TextSplitters - length based"
   ]
  },
  {
   "cell_type": "code",
   "execution_count": 3,
   "id": "5233e37c-b30c-404c-9c93-e69fa13b0a8c",
   "metadata": {},
   "outputs": [
    {
     "name": "stdout",
     "output_type": "stream",
     "text": [
      "[Document(metadata={'producer': 'Canva', 'creator': 'Canva', 'creationdate': '2025-05-28T17:37:24+00:00', 'title': 'Overview:', 'moddate': '2025-05-28T17:37:24+00:00', 'keywords': 'DAGowGSK6tA,BAFkZbykmlg,0', 'author': 'Vikas kashyap', 'source': 'Resources.pdf', 'total_pages': 1, 'page': 0, 'page_label': '1'}, page_content='1.\\xa0\\n2.\\xa0\\n1.\\xa0\\n2.\\xa0\\n     LangChain Learning Resources -\\nLink - [\\n Generative AI using LangChain]\\nLink -'), Document(metadata={'producer': 'Canva', 'creator': 'Canva', 'creationdate': '2025-05-28T17:37:24+00:00', 'title': 'Overview:', 'moddate': '2025-05-28T17:37:24+00:00', 'keywords': 'DAGowGSK6tA,BAFkZbykmlg,0', 'author': 'Vikas kashyap', 'source': 'Resources.pdf', 'total_pages': 1, 'page': 0, 'page_label': '1'}, page_content='g LangChain]\\nLink - [\\n Updated Langchain]\\n       Model Context Protocol (MCP) Learning Resources -'), Document(metadata={'producer': 'Canva', 'creator': 'Canva', 'creationdate': '2025-05-28T17:37:24+00:00', 'title': 'Overview:', 'moddate': '2025-05-28T17:37:24+00:00', 'keywords': 'DAGowGSK6tA,BAFkZbykmlg,0', 'author': 'Vikas kashyap', 'source': 'Resources.pdf', 'total_pages': 1, 'page': 0, 'page_label': '1'}, page_content='arning Resources - \\nLink -[\\n (MCP) Model Context Protocol Tutorials]\\nLink -[\\n MCP - Model Context Pr'), Document(metadata={'producer': 'Canva', 'creator': 'Canva', 'creationdate': '2025-05-28T17:37:24+00:00', 'title': 'Overview:', 'moddate': '2025-05-28T17:37:24+00:00', 'keywords': 'DAGowGSK6tA,BAFkZbykmlg,0', 'author': 'Vikas kashyap', 'source': 'Resources.pdf', 'total_pages': 1, 'page': 0, 'page_label': '1'}, page_content='P - Model Context Protocol End-To-End Course 2025]')]\n"
     ]
    }
   ],
   "source": [
    "from langchain.text_splitter import CharacterTextSplitter\n",
    "from langchain_community.document_loaders import PyPDFLoader\n",
    "\n",
    "loader = PyPDFLoader('Resources.pdf')\n",
    "docs = loader.load()\n",
    "splitter = CharacterTextSplitter(\n",
    "    chunk_size=100,\n",
    "    chunk_overlap=20,\n",
    "    separator = ''\n",
    ")\n",
    "result = splitter.split_documents(docs)\n",
    "print(result)\n"
   ]
  },
  {
   "cell_type": "markdown",
   "id": "692a938f-a9fb-41c5-957f-483f343d7343",
   "metadata": {},
   "source": [
    "## Text-Structure Based Splitter"
   ]
  },
  {
   "cell_type": "code",
   "execution_count": 6,
   "id": "9a19f8c3-068f-4892-9c96-b4b1d400428b",
   "metadata": {},
   "outputs": [
    {
     "name": "stdout",
     "output_type": "stream",
     "text": [
      "CharacterTextSplitter:\n",
      " [Document(metadata={'producer': 'Canva', 'creator': 'Canva', 'creationdate': '2025-05-28T17:37:24+00:00', 'title': 'Overview:', 'moddate': '2025-05-28T17:37:24+00:00', 'keywords': 'DAGowGSK6tA,BAFkZbykmlg,0', 'author': 'Vikas kashyap', 'source': 'Resources.pdf', 'total_pages': 1, 'page': 0, 'page_label': '1'}, page_content='1.\\xa0\\n2.\\xa0\\n1.\\xa0\\n2.\\xa0\\n     LangChain Learning Resources -\\nLink - [\\n Generative AI using LangChain]\\nLink -'), Document(metadata={'producer': 'Canva', 'creator': 'Canva', 'creationdate': '2025-05-28T17:37:24+00:00', 'title': 'Overview:', 'moddate': '2025-05-28T17:37:24+00:00', 'keywords': 'DAGowGSK6tA,BAFkZbykmlg,0', 'author': 'Vikas kashyap', 'source': 'Resources.pdf', 'total_pages': 1, 'page': 0, 'page_label': '1'}, page_content='g LangChain]\\nLink - [\\n Updated Langchain]\\n       Model Context Protocol (MCP) Learning Resources -'), Document(metadata={'producer': 'Canva', 'creator': 'Canva', 'creationdate': '2025-05-28T17:37:24+00:00', 'title': 'Overview:', 'moddate': '2025-05-28T17:37:24+00:00', 'keywords': 'DAGowGSK6tA,BAFkZbykmlg,0', 'author': 'Vikas kashyap', 'source': 'Resources.pdf', 'total_pages': 1, 'page': 0, 'page_label': '1'}, page_content='arning Resources - \\nLink -[\\n (MCP) Model Context Protocol Tutorials]\\nLink -[\\n MCP - Model Context Pr'), Document(metadata={'producer': 'Canva', 'creator': 'Canva', 'creationdate': '2025-05-28T17:37:24+00:00', 'title': 'Overview:', 'moddate': '2025-05-28T17:37:24+00:00', 'keywords': 'DAGowGSK6tA,BAFkZbykmlg,0', 'author': 'Vikas kashyap', 'source': 'Resources.pdf', 'total_pages': 1, 'page': 0, 'page_label': '1'}, page_content='P - Model Context Protocol End-To-End Course 2025]')]\n"
     ]
    }
   ],
   "source": [
    "from langchain.text_splitter import CharacterTextSplitter\n",
    "from langchain_community.document_loaders import PyPDFLoader\n",
    "\n",
    "loader = PyPDFLoader('Resources.pdf')\n",
    "docs = loader.load()\n",
    "\n",
    "splitter = CharacterTextSplitter(\n",
    "    chunk_size=100,\n",
    "    chunk_overlap=20,\n",
    "    separator=''\n",
    ")\n",
    "\n",
    "result = splitter.split_documents(docs)\n",
    "print(\"CharacterTextSplitter:\\n\", result)\n"
   ]
  },
  {
   "cell_type": "markdown",
   "id": "b7034288-a943-44e3-862e-6935e3541499",
   "metadata": {},
   "source": [
    "## Document-Structure Based Splitter"
   ]
  },
  {
   "cell_type": "code",
   "execution_count": 8,
   "id": "454a5ab6-8c12-45ad-8e71-1925413a32af",
   "metadata": {},
   "outputs": [
    {
     "name": "stdout",
     "output_type": "stream",
     "text": [
      "RecursiveCharacterTextSplitter:\n",
      " [Document(metadata={'producer': 'Canva', 'creator': 'Canva', 'creationdate': '2025-05-28T17:37:24+00:00', 'title': 'Overview:', 'moddate': '2025-05-28T17:37:24+00:00', 'keywords': 'DAGowGSK6tA,BAFkZbykmlg,0', 'author': 'Vikas kashyap', 'source': 'Resources.pdf', 'total_pages': 1, 'page': 0, 'page_label': '1'}, page_content='1.\\xa0\\n2.\\xa0\\n1.\\xa0\\n2.\\xa0\\n     LangChain Learning Resources -\\nLink - [\\n Generative AI using LangChain]'), Document(metadata={'producer': 'Canva', 'creator': 'Canva', 'creationdate': '2025-05-28T17:37:24+00:00', 'title': 'Overview:', 'moddate': '2025-05-28T17:37:24+00:00', 'keywords': 'DAGowGSK6tA,BAFkZbykmlg,0', 'author': 'Vikas kashyap', 'source': 'Resources.pdf', 'total_pages': 1, 'page': 0, 'page_label': '1'}, page_content='Link - [\\n Updated Langchain]\\n       Model Context Protocol (MCP) Learning Resources - \\nLink -['), Document(metadata={'producer': 'Canva', 'creator': 'Canva', 'creationdate': '2025-05-28T17:37:24+00:00', 'title': 'Overview:', 'moddate': '2025-05-28T17:37:24+00:00', 'keywords': 'DAGowGSK6tA,BAFkZbykmlg,0', 'author': 'Vikas kashyap', 'source': 'Resources.pdf', 'total_pages': 1, 'page': 0, 'page_label': '1'}, page_content='Link -[\\n (MCP) Model Context Protocol Tutorials]\\nLink -['), Document(metadata={'producer': 'Canva', 'creator': 'Canva', 'creationdate': '2025-05-28T17:37:24+00:00', 'title': 'Overview:', 'moddate': '2025-05-28T17:37:24+00:00', 'keywords': 'DAGowGSK6tA,BAFkZbykmlg,0', 'author': 'Vikas kashyap', 'source': 'Resources.pdf', 'total_pages': 1, 'page': 0, 'page_label': '1'}, page_content='Link -[\\n MCP - Model Context Protocol End-To-End Course 2025]')]\n"
     ]
    }
   ],
   "source": [
    "from langchain.text_splitter import RecursiveCharacterTextSplitter\n",
    "from langchain_community.document_loaders import PyPDFLoader\n",
    "\n",
    "loader = PyPDFLoader('Resources.pdf')\n",
    "docs = loader.load()\n",
    "\n",
    "splitter = RecursiveCharacterTextSplitter(\n",
    "    chunk_size=100,\n",
    "    chunk_overlap=20\n",
    ")\n",
    "\n",
    "result = splitter.split_documents(docs)\n",
    "print(\"RecursiveCharacterTextSplitter:\\n\", result)\n"
   ]
  },
  {
   "cell_type": "markdown",
   "id": "bb01e319-f94b-4d00-b587-36db6e52985f",
   "metadata": {},
   "source": [
    "## Semantic-Meaning Based Splitter"
   ]
  },
  {
   "cell_type": "code",
   "execution_count": 10,
   "id": "71bef530-9e93-4390-b923-e2c7b28c6f9c",
   "metadata": {},
   "outputs": [
    {
     "name": "stdout",
     "output_type": "stream",
     "text": [
      "TokenTextSplitter:\n",
      " [Document(metadata={'producer': 'Canva', 'creator': 'Canva', 'creationdate': '2025-05-28T17:37:24+00:00', 'title': 'Overview:', 'moddate': '2025-05-28T17:37:24+00:00', 'keywords': 'DAGowGSK6tA,BAFkZbykmlg,0', 'author': 'Vikas kashyap', 'source': 'Resources.pdf', 'total_pages': 1, 'page': 0, 'page_label': '1'}, page_content='1.\\xa0\\n2.\\xa0\\n1.\\xa0\\n2.\\xa0\\n     LangChain Learning Resources -\\nLink - [\\n Generative AI using LangChain]\\nLink - [\\n Updated Langchain]\\n       Model Context Protocol (MCP) Learning Resources - \\nLink -[\\n (MCP) Model Context Protocol Tutorials]\\nLink -[\\n MCP - Model Context Protocol End-To-End Course 2025]')]\n"
     ]
    }
   ],
   "source": [
    "from langchain.text_splitter import TokenTextSplitter\n",
    "from langchain_community.document_loaders import PyPDFLoader\n",
    "\n",
    "loader = PyPDFLoader('Resources.pdf')\n",
    "docs = loader.load()\n",
    "\n",
    "splitter = TokenTextSplitter(\n",
    "    chunk_size=100,\n",
    "    chunk_overlap=20\n",
    ")\n",
    "\n",
    "result = splitter.split_documents(docs)\n",
    "print(\"TokenTextSplitter:\\n\", result)\n"
   ]
  },
  {
   "cell_type": "code",
   "execution_count": null,
   "id": "47b89ebd-4213-4ecd-92ab-0007b0318f77",
   "metadata": {},
   "outputs": [],
   "source": []
  }
 ],
 "metadata": {
  "kernelspec": {
   "display_name": "Python 3 (ipykernel)",
   "language": "python",
   "name": "python3"
  },
  "language_info": {
   "codemirror_mode": {
    "name": "ipython",
    "version": 3
   },
   "file_extension": ".py",
   "mimetype": "text/x-python",
   "name": "python",
   "nbconvert_exporter": "python",
   "pygments_lexer": "ipython3",
   "version": "3.12.7"
  }
 },
 "nbformat": 4,
 "nbformat_minor": 5
}
